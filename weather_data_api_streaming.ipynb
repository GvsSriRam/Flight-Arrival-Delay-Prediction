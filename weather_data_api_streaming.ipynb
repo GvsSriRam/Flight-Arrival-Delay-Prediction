{
 "cells": [
  {
   "cell_type": "code",
   "execution_count": 1,
   "id": "15e91cb8",
   "metadata": {},
   "outputs": [],
   "source": [
    "import requests\n",
    "import pandas as pd"
   ]
  },
  {
   "cell_type": "code",
   "execution_count": 2,
   "id": "b7b064fa",
   "metadata": {},
   "outputs": [],
   "source": [
    "coordinates = {\"JFK\": [40.6446,-73.7797],\n",
    "               \"ORD\": [41.98043450764176, -87.91257800108377],\n",
    "               \"MCO\": [28.426901098825073, -81.31249734360168],\n",
    "               \"SYR\": [43.1113, -76.1143]}\n",
    "\n",
    "weatherbit_historical_api_endpoint = \"https://api.weatherbit.io/v2.0/history/hourly\"\n",
    "\n",
    "# Update location in params for weather data of different airport\n",
    "loc = \"JFK\"\n",
    "params = {\n",
    "    \"lat\": coordinates[loc][0],\n",
    "    \"lon\": coordinates[loc][1],\n",
    "    \"tz\": \"local\",\n",
    "    \"key\": \"82559218ca6d48d9892cd1b829d10263\"\n",
    "}\n",
    "\n",
    "features = ['datetime', 'timestamp_local', 'temp', 'app_temp', 'clouds', 'precip', 'rh', \n",
    "            'wind_spd', 'wind_gust_spd', 'wind_dir', 'weather', 'pres', 'slp', 'vis', 'snow']\n",
    "\n",
    "weather_df = pd.DataFrame()"
   ]
  },
  {
   "cell_type": "code",
   "execution_count": null,
   "id": "3b33e9fa",
   "metadata": {},
   "outputs": [],
   "source": [
    "# We can only get maximum of 2 years of data from a single request.\n",
    "# So, repeat this cell for the years: 2019 - 2020, 2021 - 2023\n",
    "# Note: 1 key can get us a maximum of 4 years of data.\n",
    "\n",
    "params[\"start_date\"] = \"2019-01-01\"\n",
    "params[\"end_date\"] = \"2020-12-31\"\n",
    "\n",
    "response = requests.get(weatherbit_historical_api_endpoint, params = params)\n",
    "res = response.json()\n",
    "data = [\n",
    "        {\n",
    "            feat: row['weather']['description'] if feat == 'weather' else row.get(feat) for feat in features\n",
    "            } for row in res['data']\n",
    "        ]\n",
    "weather_df = pd.concat(weather_df, pd.DataFrame(data), ignore_index = True)\n",
    "\n",
    "weather_df.to_csv(f'data/weather/weather_{loc}_2019_2020.csv', index = False)"
   ]
  },
  {
   "cell_type": "markdown",
   "id": "3c02d794",
   "metadata": {},
   "source": [
    "## Forecast data: April 19 - April 23, 2024"
   ]
  },
  {
   "cell_type": "code",
   "execution_count": 11,
   "id": "20eaf4b3",
   "metadata": {},
   "outputs": [],
   "source": [
    "weatherbit_forecast_api_endpoint = \"https://api.weatherbit.io/v2.0/forecast/hourly\"\n",
    "\n",
    "# Update the location in params\n",
    "loc = \"MCO\"\n",
    "params = {\n",
    "    \"lat\": coordinates[loc][0],\n",
    "    \"lon\": coordinates[loc][1],\n",
    "    \"key\": \"b843dfc4409d4598a42ec00ffd2fc5ec\",\n",
    "    \"start_date\": \"2024-04-19\",\n",
    "    \"end_date\": \"2024-04-23\"\n",
    "}\n",
    "\n",
    "response = requests.get(weatherbit_forecast_api_endpoint, params = params)\n",
    "res = response.json()\n",
    "data = [\n",
    "        {\n",
    "            feat: row['weather']['description'] if feat == 'weather' else row.get(feat) for feat in features\n",
    "            } for row in res['data']\n",
    "        ]\n",
    "weather_forecast_df = pd.DataFrame(data)\n",
    "weather_forecast_df.to_csv(f'data/weather/weather_forecast_data_{loc.lower()}.csv', index = False)"
   ]
  },
  {
   "cell_type": "code",
   "execution_count": 12,
   "id": "05a39825",
   "metadata": {},
   "outputs": [],
   "source": [
    "df = pd.DataFrame() # merge forecasts\n",
    "\n",
    "for file in [\"data/weather/weather_forecast_data_jfk.csv\",  \"data/weather/weather_forecast_data_ord.csv\",  \"data/weather/weather_forecast_data_mco.csv\"]:\n",
    "    df = pd.concat([df, pd.read_csv(file)])\n",
    "\n",
    "df.reset_index(inplace=True, drop=True)\n",
    "\n",
    "df.to_csv(\"weather_forecast_data.csv\", index=False)"
   ]
  },
  {
   "cell_type": "code",
   "execution_count": null,
   "id": "d2152116",
   "metadata": {},
   "outputs": [],
   "source": []
  }
 ],
 "metadata": {
  "kernelspec": {
   "display_name": "Python 3 (ipykernel)",
   "language": "python",
   "name": "python3"
  },
  "language_info": {
   "codemirror_mode": {
    "name": "ipython",
    "version": 3
   },
   "file_extension": ".py",
   "mimetype": "text/x-python",
   "name": "python",
   "nbconvert_exporter": "python",
   "pygments_lexer": "ipython3",
   "version": "3.10.13"
  }
 },
 "nbformat": 4,
 "nbformat_minor": 5
}
