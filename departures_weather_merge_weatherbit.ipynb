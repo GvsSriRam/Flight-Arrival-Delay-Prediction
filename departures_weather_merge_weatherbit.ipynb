{
 "cells": [
  {
   "cell_type": "markdown",
   "id": "aa2c038d",
   "metadata": {},
   "source": [
    "This file filters the departures data for the 3 airports - JFK, ORD, MCO and joins with weather data at those locations."
   ]
  },
  {
   "cell_type": "code",
   "execution_count": 1,
   "id": "dbb40c57",
   "metadata": {},
   "outputs": [],
   "source": [
    "import pandas as pd\n",
    "import os "
   ]
  },
  {
   "cell_type": "code",
   "execution_count": 2,
   "id": "42585351",
   "metadata": {},
   "outputs": [],
   "source": [
    "from pathlib import Path\n",
    "# departures_data_path = Path('/Users/rahulravikanti/Desktop/S24/IML/Project/departures/')\n",
    "departures_data_path = Path.joinpath(Path.cwd(), \"data\").joinpath(\"departures\")"
   ]
  },
  {
   "cell_type": "markdown",
   "id": "7e6aa85d",
   "metadata": {},
   "source": [
    "# Departures\n",
    "## JFK"
   ]
  },
  {
   "cell_type": "code",
   "execution_count": 3,
   "id": "095b2453",
   "metadata": {},
   "outputs": [
    {
     "name": "stdout",
     "output_type": "stream",
     "text": [
      "3731\n",
      "2719\n",
      "168\n"
     ]
    }
   ],
   "source": [
    "df = pd.DataFrame()\n",
    "for folder in os.listdir(departures_data_path):\n",
    "    if (folder == 'JFK')  and (folder !='.DS_Store'):\n",
    "        for file in os.listdir(departures_data_path.joinpath(folder)):\n",
    "        #if file == '.DS_Store':\n",
    "          #  continue\n",
    "            path = departures_data_path.joinpath(folder).joinpath(file)\n",
    "            df_ = pd.read_csv(path, skiprows=[0, 1, 2, 3, 4, 5, 6], dtype=str)\n",
    "            print((df_[\"Destination Airport\"] == 'SYR').sum())\n",
    "            df_ = df_[df_[\"Destination Airport\"] == \"SYR\"]\n",
    "            df_[\"Origin Airport\"] = folder\n",
    "            df = pd.concat([df, df_])\n",
    "            \n",
    "df[\"datetime\"] = pd.to_datetime(df[\"Date (MM/DD/YYYY)\"] + \" \" + df[\"Scheduled departure time\"])\n",
    "# df['key'] = df['Origin Airport']      \n",
    "df.sort_values(by=[\"datetime\"], inplace=True)\n",
    "\n",
    "# backup\n",
    "df.to_csv('data/aggregated/jfkMerged.csv', index=False)\n",
    "   "
   ]
  },
  {
   "cell_type": "markdown",
   "id": "f047f315",
   "metadata": {},
   "source": [
    "## ORD"
   ]
  },
  {
   "cell_type": "code",
   "execution_count": 4,
   "id": "c66745a9",
   "metadata": {},
   "outputs": [
    {
     "name": "stdout",
     "output_type": "stream",
     "text": [
      "279\n",
      "77\n",
      "1640\n",
      "1356\n",
      "2419\n",
      "2347\n",
      "20\n"
     ]
    },
    {
     "data": {
      "text/html": [
       "<div>\n",
       "<style scoped>\n",
       "    .dataframe tbody tr th:only-of-type {\n",
       "        vertical-align: middle;\n",
       "    }\n",
       "\n",
       "    .dataframe tbody tr th {\n",
       "        vertical-align: top;\n",
       "    }\n",
       "\n",
       "    .dataframe thead th {\n",
       "        text-align: right;\n",
       "    }\n",
       "</style>\n",
       "<table border=\"1\" class=\"dataframe\">\n",
       "  <thead>\n",
       "    <tr style=\"text-align: right;\">\n",
       "      <th></th>\n",
       "      <th>Carrier Code</th>\n",
       "      <th>Date (MM/DD/YYYY)</th>\n",
       "      <th>Flight Number</th>\n",
       "      <th>Tail Number</th>\n",
       "      <th>Destination Airport</th>\n",
       "      <th>Scheduled departure time</th>\n",
       "      <th>Actual departure time</th>\n",
       "      <th>Scheduled elapsed time (Minutes)</th>\n",
       "      <th>Actual elapsed time (Minutes)</th>\n",
       "      <th>Departure delay (Minutes)</th>\n",
       "      <th>Wheels-off time</th>\n",
       "      <th>Taxi-Out time (Minutes)</th>\n",
       "      <th>Delay Carrier (Minutes)</th>\n",
       "      <th>Delay Weather (Minutes)</th>\n",
       "      <th>Delay National Aviation System (Minutes)</th>\n",
       "      <th>Delay Security (Minutes)</th>\n",
       "      <th>Delay Late Aircraft Arrival (Minutes)</th>\n",
       "      <th>Origin Airport</th>\n",
       "      <th>datetime</th>\n",
       "    </tr>\n",
       "  </thead>\n",
       "  <tbody>\n",
       "    <tr>\n",
       "      <th>22</th>\n",
       "      <td>YX</td>\n",
       "      <td>01/01/2019</td>\n",
       "      <td>3623</td>\n",
       "      <td>N651RW</td>\n",
       "      <td>SYR</td>\n",
       "      <td>09:15</td>\n",
       "      <td>09:57</td>\n",
       "      <td>104</td>\n",
       "      <td>125</td>\n",
       "      <td>42</td>\n",
       "      <td>10:44</td>\n",
       "      <td>47</td>\n",
       "      <td>0</td>\n",
       "      <td>42</td>\n",
       "      <td>21</td>\n",
       "      <td>0</td>\n",
       "      <td>0</td>\n",
       "      <td>ORD</td>\n",
       "      <td>2019-01-01 09:15:00</td>\n",
       "    </tr>\n",
       "    <tr>\n",
       "      <th>37</th>\n",
       "      <td>MQ</td>\n",
       "      <td>01/01/2019</td>\n",
       "      <td>3538</td>\n",
       "      <td>N523AE</td>\n",
       "      <td>SYR</td>\n",
       "      <td>11:45</td>\n",
       "      <td>11:43</td>\n",
       "      <td>102</td>\n",
       "      <td>112</td>\n",
       "      <td>-2</td>\n",
       "      <td>12:21</td>\n",
       "      <td>38</td>\n",
       "      <td>0</td>\n",
       "      <td>0</td>\n",
       "      <td>0</td>\n",
       "      <td>0</td>\n",
       "      <td>0</td>\n",
       "      <td>ORD</td>\n",
       "      <td>2019-01-01 11:45:00</td>\n",
       "    </tr>\n",
       "    <tr>\n",
       "      <th>110</th>\n",
       "      <td>OO</td>\n",
       "      <td>01/01/2019</td>\n",
       "      <td>5346</td>\n",
       "      <td>N152SY</td>\n",
       "      <td>SYR</td>\n",
       "      <td>14:00</td>\n",
       "      <td>13:59</td>\n",
       "      <td>112</td>\n",
       "      <td>126</td>\n",
       "      <td>-1</td>\n",
       "      <td>14:48</td>\n",
       "      <td>49</td>\n",
       "      <td>0</td>\n",
       "      <td>0</td>\n",
       "      <td>0</td>\n",
       "      <td>0</td>\n",
       "      <td>0</td>\n",
       "      <td>ORD</td>\n",
       "      <td>2019-01-01 14:00:00</td>\n",
       "    </tr>\n",
       "    <tr>\n",
       "      <th>127</th>\n",
       "      <td>MQ</td>\n",
       "      <td>01/01/2019</td>\n",
       "      <td>3946</td>\n",
       "      <td>N256NN</td>\n",
       "      <td>SYR</td>\n",
       "      <td>14:47</td>\n",
       "      <td>16:30</td>\n",
       "      <td>107</td>\n",
       "      <td>121</td>\n",
       "      <td>103</td>\n",
       "      <td>17:17</td>\n",
       "      <td>47</td>\n",
       "      <td>27</td>\n",
       "      <td>0</td>\n",
       "      <td>14</td>\n",
       "      <td>0</td>\n",
       "      <td>76</td>\n",
       "      <td>ORD</td>\n",
       "      <td>2019-01-01 14:47:00</td>\n",
       "    </tr>\n",
       "    <tr>\n",
       "      <th>127</th>\n",
       "      <td>OO</td>\n",
       "      <td>01/01/2019</td>\n",
       "      <td>5679</td>\n",
       "      <td>N135SY</td>\n",
       "      <td>SYR</td>\n",
       "      <td>18:00</td>\n",
       "      <td>19:30</td>\n",
       "      <td>112</td>\n",
       "      <td>114</td>\n",
       "      <td>90</td>\n",
       "      <td>20:10</td>\n",
       "      <td>40</td>\n",
       "      <td>0</td>\n",
       "      <td>0</td>\n",
       "      <td>2</td>\n",
       "      <td>0</td>\n",
       "      <td>90</td>\n",
       "      <td>ORD</td>\n",
       "      <td>2019-01-01 18:00:00</td>\n",
       "    </tr>\n",
       "  </tbody>\n",
       "</table>\n",
       "</div>"
      ],
      "text/plain": [
       "    Carrier Code Date (MM/DD/YYYY) Flight Number Tail Number  \\\n",
       "22            YX        01/01/2019          3623      N651RW   \n",
       "37            MQ        01/01/2019          3538      N523AE   \n",
       "110           OO        01/01/2019          5346      N152SY   \n",
       "127           MQ        01/01/2019          3946      N256NN   \n",
       "127           OO        01/01/2019          5679      N135SY   \n",
       "\n",
       "    Destination Airport Scheduled departure time Actual departure time  \\\n",
       "22                  SYR                    09:15                 09:57   \n",
       "37                  SYR                    11:45                 11:43   \n",
       "110                 SYR                    14:00                 13:59   \n",
       "127                 SYR                    14:47                 16:30   \n",
       "127                 SYR                    18:00                 19:30   \n",
       "\n",
       "    Scheduled elapsed time (Minutes) Actual elapsed time (Minutes)  \\\n",
       "22                               104                           125   \n",
       "37                               102                           112   \n",
       "110                              112                           126   \n",
       "127                              107                           121   \n",
       "127                              112                           114   \n",
       "\n",
       "    Departure delay (Minutes) Wheels-off time Taxi-Out time (Minutes)  \\\n",
       "22                         42           10:44                      47   \n",
       "37                         -2           12:21                      38   \n",
       "110                        -1           14:48                      49   \n",
       "127                       103           17:17                      47   \n",
       "127                        90           20:10                      40   \n",
       "\n",
       "    Delay Carrier (Minutes) Delay Weather (Minutes)  \\\n",
       "22                        0                      42   \n",
       "37                        0                       0   \n",
       "110                       0                       0   \n",
       "127                      27                       0   \n",
       "127                       0                       0   \n",
       "\n",
       "    Delay National Aviation System (Minutes) Delay Security (Minutes)  \\\n",
       "22                                        21                        0   \n",
       "37                                         0                        0   \n",
       "110                                        0                        0   \n",
       "127                                       14                        0   \n",
       "127                                        2                        0   \n",
       "\n",
       "    Delay Late Aircraft Arrival (Minutes) Origin Airport            datetime  \n",
       "22                                      0            ORD 2019-01-01 09:15:00  \n",
       "37                                      0            ORD 2019-01-01 11:45:00  \n",
       "110                                     0            ORD 2019-01-01 14:00:00  \n",
       "127                                    76            ORD 2019-01-01 14:47:00  \n",
       "127                                    90            ORD 2019-01-01 18:00:00  "
      ]
     },
     "execution_count": 4,
     "metadata": {},
     "output_type": "execute_result"
    }
   ],
   "source": [
    "dfORD = pd.DataFrame()\n",
    "for folder in os.listdir(departures_data_path):\n",
    "    if (folder == 'ORD')  and (folder !='.DS_Store'):\n",
    "        for file in os.listdir(departures_data_path.joinpath(folder)):\n",
    "        #if file == '.DS_Store':\n",
    "          #  continue\n",
    "            path = departures_data_path.joinpath(folder).joinpath(file)\n",
    "            df_ = pd.read_csv(path, skiprows=[0, 1, 2, 3, 4, 5, 6], dtype=str)\n",
    "            print((df_[\"Destination Airport\"] == 'SYR').sum())\n",
    "            df_ = df_[df_[\"Destination Airport\"] == \"SYR\"]\n",
    "            df_[\"Origin Airport\"] = folder\n",
    "            dfORD = pd.concat([dfORD, df_])\n",
    "\n",
    "dfORD[\"datetime\"] = pd.to_datetime(dfORD[\"Date (MM/DD/YYYY)\"] + \" \" + dfORD[\"Scheduled departure time\"])\n",
    "# dfORD['key'] = dfORD['Origin Airport']    \n",
    "dfORD.sort_values(by=[\"datetime\"], inplace=True)\n",
    "\n",
    "# backup\n",
    "dfORD.to_csv('data/aggregated/ORDMerged.csv', index=False)\n",
    "dfORD.head()\n",
    "   "
   ]
  },
  {
   "cell_type": "markdown",
   "id": "a89cf8b7",
   "metadata": {},
   "source": [
    "## MCO"
   ]
  },
  {
   "cell_type": "code",
   "execution_count": 5,
   "id": "9eacf5e5",
   "metadata": {},
   "outputs": [
    {
     "name": "stdout",
     "output_type": "stream",
     "text": [
      "182\n",
      "1465\n",
      "1060\n"
     ]
    },
    {
     "data": {
      "text/html": [
       "<div>\n",
       "<style scoped>\n",
       "    .dataframe tbody tr th:only-of-type {\n",
       "        vertical-align: middle;\n",
       "    }\n",
       "\n",
       "    .dataframe tbody tr th {\n",
       "        vertical-align: top;\n",
       "    }\n",
       "\n",
       "    .dataframe thead th {\n",
       "        text-align: right;\n",
       "    }\n",
       "</style>\n",
       "<table border=\"1\" class=\"dataframe\">\n",
       "  <thead>\n",
       "    <tr style=\"text-align: right;\">\n",
       "      <th></th>\n",
       "      <th>Carrier Code</th>\n",
       "      <th>Date (MM/DD/YYYY)</th>\n",
       "      <th>Flight Number</th>\n",
       "      <th>Tail Number</th>\n",
       "      <th>Destination Airport</th>\n",
       "      <th>Scheduled departure time</th>\n",
       "      <th>Actual departure time</th>\n",
       "      <th>Scheduled elapsed time (Minutes)</th>\n",
       "      <th>Actual elapsed time (Minutes)</th>\n",
       "      <th>Departure delay (Minutes)</th>\n",
       "      <th>Wheels-off time</th>\n",
       "      <th>Taxi-Out time (Minutes)</th>\n",
       "      <th>Delay Carrier (Minutes)</th>\n",
       "      <th>Delay Weather (Minutes)</th>\n",
       "      <th>Delay National Aviation System (Minutes)</th>\n",
       "      <th>Delay Security (Minutes)</th>\n",
       "      <th>Delay Late Aircraft Arrival (Minutes)</th>\n",
       "      <th>Origin Airport</th>\n",
       "      <th>datetime</th>\n",
       "    </tr>\n",
       "  </thead>\n",
       "  <tbody>\n",
       "    <tr>\n",
       "      <th>2</th>\n",
       "      <td>F9</td>\n",
       "      <td>01/01/2019</td>\n",
       "      <td>1020</td>\n",
       "      <td>N201FR</td>\n",
       "      <td>SYR</td>\n",
       "      <td>12:47</td>\n",
       "      <td>12:38</td>\n",
       "      <td>160</td>\n",
       "      <td>146</td>\n",
       "      <td>-9</td>\n",
       "      <td>12:48</td>\n",
       "      <td>10</td>\n",
       "      <td>0</td>\n",
       "      <td>0</td>\n",
       "      <td>0</td>\n",
       "      <td>0</td>\n",
       "      <td>0</td>\n",
       "      <td>MCO</td>\n",
       "      <td>2019-01-01 12:47:00</td>\n",
       "    </tr>\n",
       "    <tr>\n",
       "      <th>17</th>\n",
       "      <td>B6</td>\n",
       "      <td>01/01/2019</td>\n",
       "      <td>0656</td>\n",
       "      <td>N520JB</td>\n",
       "      <td>SYR</td>\n",
       "      <td>20:33</td>\n",
       "      <td>20:54</td>\n",
       "      <td>159</td>\n",
       "      <td>156</td>\n",
       "      <td>21</td>\n",
       "      <td>21:14</td>\n",
       "      <td>20</td>\n",
       "      <td>3</td>\n",
       "      <td>0</td>\n",
       "      <td>0</td>\n",
       "      <td>0</td>\n",
       "      <td>15</td>\n",
       "      <td>MCO</td>\n",
       "      <td>2019-01-01 20:33:00</td>\n",
       "    </tr>\n",
       "    <tr>\n",
       "      <th>281</th>\n",
       "      <td>B6</td>\n",
       "      <td>01/02/2019</td>\n",
       "      <td>0656</td>\n",
       "      <td>N665JB</td>\n",
       "      <td>SYR</td>\n",
       "      <td>20:33</td>\n",
       "      <td>20:30</td>\n",
       "      <td>159</td>\n",
       "      <td>144</td>\n",
       "      <td>-3</td>\n",
       "      <td>20:50</td>\n",
       "      <td>20</td>\n",
       "      <td>0</td>\n",
       "      <td>0</td>\n",
       "      <td>0</td>\n",
       "      <td>0</td>\n",
       "      <td>0</td>\n",
       "      <td>MCO</td>\n",
       "      <td>2019-01-02 20:33:00</td>\n",
       "    </tr>\n",
       "    <tr>\n",
       "      <th>434</th>\n",
       "      <td>F9</td>\n",
       "      <td>01/03/2019</td>\n",
       "      <td>1020</td>\n",
       "      <td>N220FR</td>\n",
       "      <td>SYR</td>\n",
       "      <td>12:47</td>\n",
       "      <td>12:41</td>\n",
       "      <td>160</td>\n",
       "      <td>153</td>\n",
       "      <td>-6</td>\n",
       "      <td>12:51</td>\n",
       "      <td>10</td>\n",
       "      <td>0</td>\n",
       "      <td>0</td>\n",
       "      <td>0</td>\n",
       "      <td>0</td>\n",
       "      <td>0</td>\n",
       "      <td>MCO</td>\n",
       "      <td>2019-01-03 12:47:00</td>\n",
       "    </tr>\n",
       "    <tr>\n",
       "      <th>552</th>\n",
       "      <td>B6</td>\n",
       "      <td>01/03/2019</td>\n",
       "      <td>0656</td>\n",
       "      <td>N645JB</td>\n",
       "      <td>SYR</td>\n",
       "      <td>20:33</td>\n",
       "      <td>22:23</td>\n",
       "      <td>159</td>\n",
       "      <td>144</td>\n",
       "      <td>110</td>\n",
       "      <td>22:36</td>\n",
       "      <td>13</td>\n",
       "      <td>6</td>\n",
       "      <td>0</td>\n",
       "      <td>0</td>\n",
       "      <td>0</td>\n",
       "      <td>89</td>\n",
       "      <td>MCO</td>\n",
       "      <td>2019-01-03 20:33:00</td>\n",
       "    </tr>\n",
       "  </tbody>\n",
       "</table>\n",
       "</div>"
      ],
      "text/plain": [
       "    Carrier Code Date (MM/DD/YYYY) Flight Number Tail Number  \\\n",
       "2             F9        01/01/2019          1020      N201FR   \n",
       "17            B6        01/01/2019          0656      N520JB   \n",
       "281           B6        01/02/2019          0656      N665JB   \n",
       "434           F9        01/03/2019          1020      N220FR   \n",
       "552           B6        01/03/2019          0656      N645JB   \n",
       "\n",
       "    Destination Airport Scheduled departure time Actual departure time  \\\n",
       "2                   SYR                    12:47                 12:38   \n",
       "17                  SYR                    20:33                 20:54   \n",
       "281                 SYR                    20:33                 20:30   \n",
       "434                 SYR                    12:47                 12:41   \n",
       "552                 SYR                    20:33                 22:23   \n",
       "\n",
       "    Scheduled elapsed time (Minutes) Actual elapsed time (Minutes)  \\\n",
       "2                                160                           146   \n",
       "17                               159                           156   \n",
       "281                              159                           144   \n",
       "434                              160                           153   \n",
       "552                              159                           144   \n",
       "\n",
       "    Departure delay (Minutes) Wheels-off time Taxi-Out time (Minutes)  \\\n",
       "2                          -9           12:48                      10   \n",
       "17                         21           21:14                      20   \n",
       "281                        -3           20:50                      20   \n",
       "434                        -6           12:51                      10   \n",
       "552                       110           22:36                      13   \n",
       "\n",
       "    Delay Carrier (Minutes) Delay Weather (Minutes)  \\\n",
       "2                         0                       0   \n",
       "17                        3                       0   \n",
       "281                       0                       0   \n",
       "434                       0                       0   \n",
       "552                       6                       0   \n",
       "\n",
       "    Delay National Aviation System (Minutes) Delay Security (Minutes)  \\\n",
       "2                                          0                        0   \n",
       "17                                         0                        0   \n",
       "281                                        0                        0   \n",
       "434                                        0                        0   \n",
       "552                                        0                        0   \n",
       "\n",
       "    Delay Late Aircraft Arrival (Minutes) Origin Airport            datetime  \n",
       "2                                       0            MCO 2019-01-01 12:47:00  \n",
       "17                                     15            MCO 2019-01-01 20:33:00  \n",
       "281                                     0            MCO 2019-01-02 20:33:00  \n",
       "434                                     0            MCO 2019-01-03 12:47:00  \n",
       "552                                    89            MCO 2019-01-03 20:33:00  "
      ]
     },
     "execution_count": 5,
     "metadata": {},
     "output_type": "execute_result"
    }
   ],
   "source": [
    "dfMCO = pd.DataFrame()\n",
    "for folder in os.listdir(departures_data_path):\n",
    "    if (folder == 'MCO')  and (folder !='.DS_Store'):\n",
    "        for file in os.listdir(departures_data_path.joinpath(folder)):\n",
    "        #if file == '.DS_Store':\n",
    "          #  continue\n",
    "            path = departures_data_path.joinpath(folder).joinpath(file)\n",
    "            df_ = pd.read_csv(path, skiprows=[0, 1, 2, 3, 4, 5, 6], dtype=str)\n",
    "            print((df_[\"Destination Airport\"] == 'SYR').sum())\n",
    "            df_ = df_[df_[\"Destination Airport\"] == \"SYR\"]\n",
    "            df_[\"Origin Airport\"] = folder\n",
    "            dfMCO = pd.concat([dfMCO, df_])\n",
    "\n",
    "dfMCO[\"datetime\"] = pd.to_datetime(dfMCO[\"Date (MM/DD/YYYY)\"] + \" \" + dfMCO[\"Scheduled departure time\"])\n",
    "# dfMCO['key'] = dfMCO['Origin Airport']      \n",
    "dfMCO.sort_values(by=[\"datetime\"], inplace=True)\n",
    "\n",
    "# backup\n",
    "dfMCO.to_csv('data/aggregated/MCOMerged.csv', index=False)  \n",
    "    \n",
    "dfMCO.head()"
   ]
  },
  {
   "cell_type": "markdown",
   "id": "4b3851c6",
   "metadata": {},
   "source": [
    "# Weather"
   ]
  },
  {
   "cell_type": "code",
   "execution_count": 6,
   "id": "02410e2f",
   "metadata": {},
   "outputs": [],
   "source": [
    "dfWeather_MCO = pd.read_csv('data/weather/MCO_weather_data_sub_hourly.csv')\n",
    "dfWeather_ORD = pd.read_csv('data/weather/ORD_weather_data_sub_hourly.csv')\n",
    "dfWeather_JFK = pd.read_csv('data/weather/JFK_weather_data_sub_hourly.csv')"
   ]
  },
  {
   "cell_type": "code",
   "execution_count": 7,
   "id": "71c3636e",
   "metadata": {},
   "outputs": [
    {
     "data": {
      "text/plain": [
       "Index(['app_temp', 'azimuth', 'clouds', 'dewpt', 'dhi', 'dni', 'elev_angle',\n",
       "       'ghi', 'pod', 'precip_rate', 'pres', 'revision_status', 'rh', 'slp',\n",
       "       'snow_rate', 'solar_rad', 'temp', 'timestamp_local', 'timestamp_utc',\n",
       "       'ts', 'uv', 'vis', 'weather.icon', 'weather.description',\n",
       "       'weather.code', 'wind_dir', 'wind_gust_spd', 'wind_spd'],\n",
       "      dtype='object')"
      ]
     },
     "execution_count": 7,
     "metadata": {},
     "output_type": "execute_result"
    }
   ],
   "source": [
    "dfWeather_JFK.columns"
   ]
  },
  {
   "cell_type": "code",
   "execution_count": 8,
   "id": "4fa9c5cd",
   "metadata": {},
   "outputs": [],
   "source": [
    "weather_cols = [\"timestamp_local\", \"temp\",\t\"app_temp\",\t\"clouds\",\t\"precip_rate\",\t\"rh\",\t\"wind_spd\",\t\"wind_gust_spd\",\t\"wind_dir\",\t\"weather.description\",\t\"pres\",\t\"slp\",\t\"vis\",\t\"snow_rate\"]\n",
    "\n",
    "dfWeather_JFK = dfWeather_JFK[weather_cols]\n",
    "dfWeather_ORD = dfWeather_ORD[weather_cols]\n",
    "dfWeather_MCO = dfWeather_MCO[weather_cols]"
   ]
  },
  {
   "cell_type": "code",
   "execution_count": 9,
   "id": "4955e5d7",
   "metadata": {},
   "outputs": [],
   "source": [
    "dfWeather_MCO[\"datetime\"] = pd.to_datetime(dfWeather_MCO[\"timestamp_local\"])\n",
    "dfWeather_MCO.sort_values(by=[\"datetime\"], inplace=True)\n",
    "\n",
    "dfWeather_ORD[\"datetime\"] = pd.to_datetime(dfWeather_ORD[\"timestamp_local\"])\n",
    "dfWeather_ORD.sort_values(by=[\"datetime\"], inplace=True)\n",
    "\n",
    "dfWeather_JFK[\"datetime\"] = pd.to_datetime(dfWeather_JFK[\"timestamp_local\"])\n",
    "dfWeather_JFK.sort_values(by=[\"datetime\"], inplace=True)"
   ]
  },
  {
   "cell_type": "code",
   "execution_count": 10,
   "id": "ea7ace99",
   "metadata": {},
   "outputs": [
    {
     "data": {
      "text/plain": [
       "Index(['timestamp_local', 'temp', 'app_temp', 'clouds', 'precip_rate', 'rh',\n",
       "       'wind_spd', 'wind_gust_spd', 'wind_dir', 'weather.description', 'pres',\n",
       "       'slp', 'vis', 'snow_rate', 'datetime'],\n",
       "      dtype='object')"
      ]
     },
     "execution_count": 10,
     "metadata": {},
     "output_type": "execute_result"
    }
   ],
   "source": [
    "dfWeather_MCO.columns"
   ]
  },
  {
   "cell_type": "code",
   "execution_count": 11,
   "id": "1e0f57c1",
   "metadata": {},
   "outputs": [],
   "source": [
    "def get_wind_dir(x):\n",
    "    return \"seg_\"+str(int((x-22.5)/45))\n",
    "\n",
    "dfWeather_JFK[\"wind_dir\"] = dfWeather_JFK[\"wind_dir\"].apply(get_wind_dir)\n",
    "dfWeather_ORD[\"wind_dir\"] = dfWeather_ORD[\"wind_dir\"].apply(get_wind_dir)\n",
    "dfWeather_MCO[\"wind_dir\"] = dfWeather_MCO[\"wind_dir\"].apply(get_wind_dir)"
   ]
  },
  {
   "cell_type": "code",
   "execution_count": 12,
   "id": "6e6785fd",
   "metadata": {},
   "outputs": [
    {
     "data": {
      "text/plain": [
       "(2707, 33)"
      ]
     },
     "execution_count": 12,
     "metadata": {},
     "output_type": "execute_result"
    }
   ],
   "source": [
    "dfMapped_MCO = pd.merge_asof(dfMCO, dfWeather_MCO, left_on='datetime', right_on='datetime', direction='nearest')\n",
    "dfMapped_MCO.shape"
   ]
  },
  {
   "cell_type": "code",
   "execution_count": 13,
   "id": "26b27bab",
   "metadata": {},
   "outputs": [
    {
     "data": {
      "text/plain": [
       "(8138, 33)"
      ]
     },
     "execution_count": 13,
     "metadata": {},
     "output_type": "execute_result"
    }
   ],
   "source": [
    "dfMapped_ORD = pd.merge_asof(dfORD, dfWeather_ORD, left_on='datetime', right_on='datetime', direction='nearest')\n",
    "dfMapped_ORD.shape"
   ]
  },
  {
   "cell_type": "code",
   "execution_count": 14,
   "id": "eae9caf1",
   "metadata": {},
   "outputs": [
    {
     "data": {
      "text/plain": [
       "(6618, 33)"
      ]
     },
     "execution_count": 14,
     "metadata": {},
     "output_type": "execute_result"
    }
   ],
   "source": [
    "dfMapped_JFK = pd.merge_asof(df, dfWeather_JFK, left_on='datetime', right_on='datetime', direction='nearest')\n",
    "dfMapped_JFK.shape"
   ]
  },
  {
   "cell_type": "code",
   "execution_count": 15,
   "id": "5c09676e",
   "metadata": {},
   "outputs": [],
   "source": [
    "dfMapped_MCO.drop(columns=[\"timestamp_local\"], inplace=True)\n",
    "dfMapped_ORD.drop(columns=[\"timestamp_local\"], inplace=True)\n",
    "dfMapped_JFK.drop(columns=[\"timestamp_local\"], inplace=True)"
   ]
  },
  {
   "cell_type": "code",
   "execution_count": 16,
   "id": "6e2736f7",
   "metadata": {},
   "outputs": [],
   "source": [
    "dfMapped_MCO.to_csv('data/aggregated/MCO_final_weatherbit.csv', index=False)\n",
    "dfMapped_ORD.to_csv('data/aggregated/ORD_final_weatherbit.csv', index=False)\n",
    "dfMapped_JFK.to_csv('data/aggregated/JFK_final_weatherbit.csv', index=False)"
   ]
  },
  {
   "cell_type": "code",
   "execution_count": null,
   "id": "4e10a847",
   "metadata": {},
   "outputs": [],
   "source": []
  }
 ],
 "metadata": {
  "kernelspec": {
   "display_name": "Python 3 (ipykernel)",
   "language": "python",
   "name": "python3"
  },
  "language_info": {
   "codemirror_mode": {
    "name": "ipython",
    "version": 3
   },
   "file_extension": ".py",
   "mimetype": "text/x-python",
   "name": "python",
   "nbconvert_exporter": "python",
   "pygments_lexer": "ipython3",
   "version": "3.10.13"
  }
 },
 "nbformat": 4,
 "nbformat_minor": 5
}
